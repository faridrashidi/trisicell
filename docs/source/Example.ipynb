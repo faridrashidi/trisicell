{
 "cells": [
  {
   "cell_type": "markdown",
   "metadata": {},
   "source": [
    "# Example"
   ]
  },
  {
   "cell_type": "code",
   "execution_count": 3,
   "metadata": {},
   "outputs": [],
   "source": [
    "genotype = tsc.datasets.example('genotype')\n",
    "expression = tsc.datasets.example('expression')"
   ]
  },
  {
   "cell_type": "code",
   "execution_count": 2,
   "metadata": {},
   "outputs": [
    {
     "name": "stdout",
     "output_type": "stream",
     "text": [
      "AnnData object with n_obs × n_vars = 83 × 450\n",
      "    obs: 'cells', 'uniquely_mapped_percent', 'num_splices', 'num_GCAG_splices', 'insertion_length', 'deletion_length', 'unmapped_tooshort_percent', 'avg_mapped_read_length', 'deletion_rate', 'mismatch_rate', 'avg_input_read_length', 'num_ATAC_splices', 'num_annotated_splices', 'num_GTAG_splices', 'uniquely_mapped', 'multimapped_toomany', 'unmapped_mismatches', 'unmapped_mismatches_percent', 'total_reads', 'unmapped_other', 'insertion_rate', 'unmapped_other_percent', 'multimapped_percent', 'multimapped', 'num_noncanonical_splices', 'unmapped_tooshort', 'multimapped_toomany_percent', 'clone', 'group', 'group_color', 'is_red', 'is_sub', 'subclone_color', 'n_expressed', 'Axl', 'Erbb3', 'Mitf', 'MPS_overall', 'branch_color'\n",
      "    var: 'kind', 'amino_acid_change', 'ensemble', 'gene', 'chrom', 'position', 'reference', 'alteration'\n",
      "    layers: 'genotype', 'mutant', 'total', 'vaf'\n"
     ]
    }
   ],
   "source": [
    "print(genotype)"
   ]
  },
  {
   "cell_type": "code",
   "execution_count": 4,
   "metadata": {},
   "outputs": [
    {
     "name": "stdout",
     "output_type": "stream",
     "text": [
      "AnnData object with n_obs × n_vars = 83 × 6717\n",
      "    obs: 'cells', 'uniquely_mapped_percent', 'num_splices', 'num_GCAG_splices', 'insertion_length', 'deletion_length', 'unmapped_tooshort_percent', 'avg_mapped_read_length', 'deletion_rate', 'mismatch_rate', 'avg_input_read_length', 'num_ATAC_splices', 'num_annotated_splices', 'num_GTAG_splices', 'uniquely_mapped', 'multimapped_toomany', 'unmapped_mismatches', 'unmapped_mismatches_percent', 'total_reads', 'unmapped_other', 'insertion_rate', 'unmapped_other_percent', 'multimapped_percent', 'multimapped', 'num_noncanonical_splices', 'unmapped_tooshort', 'multimapped_toomany_percent', 'clone', 'group', 'group_color', 'is_red', 'is_sub', 'subclone_color', 'n_genes_by_counts', 'total_counts', 'total_counts_mt', 'pct_counts_mt', 'leiden'\n",
      "    var: 'n_cells', 'mt', 'n_cells_by_counts', 'mean_counts', 'pct_dropout_by_counts', 'total_counts', 'highly_variable', 'means', 'dispersions', 'dispersions_norm', 'mean', 'std'\n",
      "    uns: 'hvg', 'leiden', 'neighbors', 'pca', 'umap'\n",
      "    obsm: 'X_pca', 'X_umap'\n",
      "    varm: 'PCs'\n",
      "    layers: 'fpkm', 'tpm'\n",
      "    obsp: 'connectivities', 'distances'\n"
     ]
    }
   ],
   "source": [
    "print(expression)"
   ]
  },
  {
   "cell_type": "code",
   "execution_count": null,
   "metadata": {},
   "outputs": [],
   "source": []
  },
  {
   "cell_type": "code",
   "execution_count": null,
   "metadata": {},
   "outputs": [],
   "source": [
    "# scrna = scrna[:, shared_scrna_bwes].copy()\n",
    "# scrna = scrna[scrna.obs.clone.isin(['C21','C6','C24','C17','C1','C22','C4','C15','C18','C11','C16']), :].copy()\n",
    "# tsc.io.write(scrna, '/data/frashidi/APPS/trisicell/trisicell/datasets/data/genotype')\n",
    "# scexpr.obs.index.str.split('_').str[0].unique()"
   ]
  },
  {
   "cell_type": "code",
   "execution_count": null,
   "metadata": {},
   "outputs": [],
   "source": []
  },
  {
   "cell_type": "code",
   "execution_count": null,
   "metadata": {},
   "outputs": [],
   "source": [
    "tsc.pp.filter_mut_vaf_greater_than_coverage_mutant_greater_than(scrna, min_vaf=0.4,\n",
    "                                                                min_coverage_mutant=20, min_cells=2)\n",
    "tsc.pp.filter_mut_reference_must_present_in_at_least(scrna, min_cells=1)\n",
    "tsc.pp.filter_mut_mutant_must_present_in_at_least(scrna, min_cells=2)"
   ]
  },
  {
   "cell_type": "code",
   "execution_count": null,
   "metadata": {},
   "outputs": [],
   "source": []
  }
 ],
 "metadata": {
  "kernelspec": {
   "display_name": "Python 3",
   "language": "python",
   "name": "python3"
  },
  "language_info": {
   "codemirror_mode": {
    "name": "ipython",
    "version": 3
   },
   "file_extension": ".py",
   "mimetype": "text/x-python",
   "name": "python",
   "nbconvert_exporter": "python",
   "pygments_lexer": "ipython3",
   "version": "3.7.9"
  }
 },
 "nbformat": 4,
 "nbformat_minor": 4
}
